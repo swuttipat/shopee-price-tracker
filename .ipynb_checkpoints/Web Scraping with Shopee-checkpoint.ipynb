{
 "cells": [
  {
   "cell_type": "code",
   "execution_count": 1,
   "id": "247e095e",
   "metadata": {},
   "outputs": [],
   "source": [
    "url = \"https://shopee.co.th/HomeHuk-%E0%B9%80%E0%B8%81%E0%B9%89%E0%B8%B2%E0%B8%AD%E0%B8%B5%E0%B9%89%E0%B9%80%E0%B8%81%E0%B8%A1%E0%B8%A1%E0%B8%B4%E0%B9%88%E0%B8%87-%E0%B8%A3%E0%B8%B8%E0%B9%88%E0%B8%99-Arashi-%E0%B9%80%E0%B8%9A%E0%B8%B2%E0%B8%B0%E0%B8%9C%E0%B9%89%E0%B8%B2-%E0%B8%82%E0%B8%AD%E0%B8%9A%E0%B8%AB%E0%B8%99%E0%B8%B1%E0%B8%87-%E0%B8%AB%E0%B8%99%E0%B8%B2%E0%B8%9E%E0%B8%B4%E0%B9%80%E0%B8%A8%E0%B8%A9-%E0%B8%97%E0%B8%B5%E0%B9%88%E0%B8%9E%E0%B8%B1%E0%B8%81%E0%B9%81%E0%B8%82%E0%B8%99-%E0%B8%9B%E0%B8%A3%E0%B8%B1%E0%B8%9A-2-%E0%B8%97%E0%B8%B4%E0%B8%A8%E0%B8%97%E0%B8%B2%E0%B8%87-%E0%B8%9E%E0%B8%99%E0%B8%B1%E0%B8%81%E0%B8%9E%E0%B8%B4%E0%B8%87%E0%B8%AA%E0%B8%B9%E0%B8%87-%E0%B9%80%E0%B8%AD%E0%B8%99-90-135%C2%B0-%E0%B8%A5%E0%B9%87%E0%B8%AD%E0%B8%84%E0%B9%84%E0%B8%94%E0%B9%89-%E0%B9%80%E0%B8%81%E0%B9%89%E0%B8%B2%E0%B8%AD%E0%B8%B5%E0%B9%89%E0%B8%84%E0%B8%AD%E0%B8%A1-%E0%B9%80%E0%B8%81%E0%B9%89%E0%B8%B2%E0%B8%AD%E0%B8%B5%E0%B9%89%E0%B8%84%E0%B8%AD%E0%B8%A1%E0%B8%9E%E0%B8%B4%E0%B8%A7%E0%B9%80%E0%B8%95%E0%B8%AD%E0%B8%A3%E0%B9%8C-Fabric-Gaming-Chair-2D-Armrest-with-Double-Tilt-i.8716640.836140800?sp_atk=cac78744-047a-4f6c-b186-21bac677b668&xptdk=cac78744-047a-4f6c-b186-21bac677b668\""
   ]
  },
  {
   "cell_type": "code",
   "execution_count": 2,
   "id": "f9d5ae92",
   "metadata": {},
   "outputs": [],
   "source": [
    "price_loc = \"div.X0xUb5\""
   ]
  },
  {
   "cell_type": "code",
   "execution_count": 3,
   "id": "7409e690",
   "metadata": {},
   "outputs": [],
   "source": [
    "def get_price_and_date(url, price_loc):\n",
    "    from selenium import webdriver\n",
    "    from selenium.webdriver.common.by import By\n",
    "    from selenium.webdriver.support.ui import WebDriverWait\n",
    "    from selenium.webdriver.support import expected_conditions as EC\n",
    "    import pandas as pd\n",
    "\n",
    "\n",
    "    # Set the URL of the product page you want to scrape\n",
    "    url =  url\n",
    "\n",
    "    # Create a Chrome web driver\n",
    "    driver = webdriver.Chrome()\n",
    "\n",
    "    # Navigate to the product page\n",
    "    driver.get(url)\n",
    "\n",
    "    # Wait for the page to load\n",
    "    WebDriverWait(driver, 10).until(EC.presence_of_element_located((By.CSS_SELECTOR, price_loc)))\n",
    "\n",
    "    # Find the element containing the price information\n",
    "    price_element = driver.find_element_by_css_selector(price_loc)\n",
    "\n",
    "    # Extract the price text and remove the currency symbol\n",
    "    # price_text = price_element.text.replace(\"RM\", \"\").strip()\n",
    "    price_text = \"\".join([c for c in price_element.text if c.isdigit() or c in [\".\", \"-\"]])\n",
    "\n",
    "    # Convert the price text to a number\n",
    "    price = price_text\n",
    "\n",
    "    # Get the current date and time\n",
    "    date = pd.Timestamp.now()\n",
    "\n",
    "    # Create a DataFrame with the price and date\n",
    "    df = pd.DataFrame({\"price\": [price], \"date\": [date]})\n",
    "\n",
    "    # Append the new row to the existing DataFrame\n",
    "    try:\n",
    "        df_existing = pd.read_csv(\"prices.csv\")\n",
    "    except:\n",
    "        df.to_csv(\"prices.csv\")\n",
    "        df_existing = pd.read_csv(\"prices.csv\")\n",
    "    df_combined = df_existing.append(df, ignore_index=True)\n",
    "\n",
    "    # Save the combined DataFrame to the CSV file\n",
    "    df_combined.to_csv(\"prices.csv\", index=False)\n",
    "\n",
    "    # Close the web driver\n",
    "    driver.close()\n"
   ]
  },
  {
   "cell_type": "markdown",
   "id": "78eb540a",
   "metadata": {},
   "source": [
    "# One Time Run"
   ]
  },
  {
   "cell_type": "code",
   "execution_count": 4,
   "id": "252b2d84",
   "metadata": {},
   "outputs": [],
   "source": [
    "get_price_and_date(url, price_loc)"
   ]
  },
  {
   "cell_type": "code",
   "execution_count": 5,
   "id": "0c9f2de6",
   "metadata": {},
   "outputs": [
    {
     "data": {
      "text/html": [
       "<div>\n",
       "<style scoped>\n",
       "    .dataframe tbody tr th:only-of-type {\n",
       "        vertical-align: middle;\n",
       "    }\n",
       "\n",
       "    .dataframe tbody tr th {\n",
       "        vertical-align: top;\n",
       "    }\n",
       "\n",
       "    .dataframe thead th {\n",
       "        text-align: right;\n",
       "    }\n",
       "</style>\n",
       "<table border=\"1\" class=\"dataframe\">\n",
       "  <thead>\n",
       "    <tr style=\"text-align: right;\">\n",
       "      <th></th>\n",
       "      <th>Unnamed: 0</th>\n",
       "      <th>price</th>\n",
       "      <th>date</th>\n",
       "    </tr>\n",
       "  </thead>\n",
       "  <tbody>\n",
       "    <tr>\n",
       "      <th>0</th>\n",
       "      <td>0.0</td>\n",
       "      <td>3499-4190</td>\n",
       "      <td>2022-12-28 21:14:35.352184</td>\n",
       "    </tr>\n",
       "    <tr>\n",
       "      <th>1</th>\n",
       "      <td>NaN</td>\n",
       "      <td>3499-4190</td>\n",
       "      <td>2022-12-28 21:14:35.352184</td>\n",
       "    </tr>\n",
       "    <tr>\n",
       "      <th>2</th>\n",
       "      <td>NaN</td>\n",
       "      <td>3499-4190</td>\n",
       "      <td>2022-12-29 10:38:43.780992</td>\n",
       "    </tr>\n",
       "  </tbody>\n",
       "</table>\n",
       "</div>"
      ],
      "text/plain": [
       "   Unnamed: 0      price                        date\n",
       "0         0.0  3499-4190  2022-12-28 21:14:35.352184\n",
       "1         NaN  3499-4190  2022-12-28 21:14:35.352184\n",
       "2         NaN  3499-4190  2022-12-29 10:38:43.780992"
      ]
     },
     "execution_count": 5,
     "metadata": {},
     "output_type": "execute_result"
    }
   ],
   "source": [
    "import pandas as pd\n",
    "pd.read_csv('prices.csv')"
   ]
  },
  {
   "cell_type": "markdown",
   "id": "ed908c9b",
   "metadata": {},
   "source": [
    "\n",
    "\n",
    "\n",
    "\n",
    "\n",
    "\n",
    "\n",
    "\n",
    "\n",
    "\n",
    "\n"
   ]
  },
  {
   "cell_type": "markdown",
   "id": "04c49296",
   "metadata": {},
   "source": [
    "# Once a Day Run Everyday"
   ]
  },
  {
   "cell_type": "code",
   "execution_count": 7,
   "id": "5252e5a3",
   "metadata": {},
   "outputs": [
    {
     "ename": "KeyboardInterrupt",
     "evalue": "",
     "output_type": "error",
     "traceback": [
      "\u001b[1;31m---------------------------------------------------------------------------\u001b[0m",
      "\u001b[1;31mKeyboardInterrupt\u001b[0m                         Traceback (most recent call last)",
      "\u001b[1;32m<ipython-input-7-045b4766be23>\u001b[0m in \u001b[0;36m<module>\u001b[1;34m\u001b[0m\n\u001b[0;32m      6\u001b[0m     \u001b[1;31m# Wait for one day\u001b[0m\u001b[1;33m\u001b[0m\u001b[1;33m\u001b[0m\u001b[1;33m\u001b[0m\u001b[0m\n\u001b[0;32m      7\u001b[0m \u001b[1;31m#     time.sleep(86400)\u001b[0m\u001b[1;33m\u001b[0m\u001b[1;33m\u001b[0m\u001b[1;33m\u001b[0m\u001b[0m\n\u001b[1;32m----> 8\u001b[1;33m     \u001b[0mtime\u001b[0m\u001b[1;33m.\u001b[0m\u001b[0msleep\u001b[0m\u001b[1;33m(\u001b[0m\u001b[1;36m5\u001b[0m\u001b[1;33m)\u001b[0m\u001b[1;33m\u001b[0m\u001b[1;33m\u001b[0m\u001b[0m\n\u001b[0m",
      "\u001b[1;31mKeyboardInterrupt\u001b[0m: "
     ]
    }
   ],
   "source": [
    "import time\n",
    "\n",
    "while True:\n",
    "    get_price_and_date(url, price_loc)\n",
    "    \n",
    "    # Wait for one day\n",
    "    time.sleep(86400)"
   ]
  },
  {
   "cell_type": "code",
   "execution_count": null,
   "id": "807b5398",
   "metadata": {},
   "outputs": [],
   "source": []
  }
 ],
 "metadata": {
  "kernelspec": {
   "display_name": "Python 3",
   "language": "python",
   "name": "python3"
  },
  "language_info": {
   "codemirror_mode": {
    "name": "ipython",
    "version": 3
   },
   "file_extension": ".py",
   "mimetype": "text/x-python",
   "name": "python",
   "nbconvert_exporter": "python",
   "pygments_lexer": "ipython3",
   "version": "3.8.8"
  }
 },
 "nbformat": 4,
 "nbformat_minor": 5
}
