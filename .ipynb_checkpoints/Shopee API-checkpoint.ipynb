{
 "cells": [
  {
   "cell_type": "markdown",
   "id": "1e58e886",
   "metadata": {},
   "source": [
    "# Note\n",
    "#### To do Shopee API. It need KAM (Key's Account Mangement email) that I not meet the criteria for acquire the key. Therefore I use webscraping method instead."
   ]
  },
  {
   "cell_type": "code",
   "execution_count": 1,
   "id": "0004527a",
   "metadata": {},
   "outputs": [
    {
     "ename": "KeyError",
     "evalue": "'item'",
     "output_type": "error",
     "traceback": [
      "\u001b[1;31m---------------------------------------------------------------------------\u001b[0m",
      "\u001b[1;31mKeyError\u001b[0m                                  Traceback (most recent call last)",
      "\u001b[1;32m<ipython-input-1-f8ba71b468fd>\u001b[0m in \u001b[0;36m<module>\u001b[1;34m\u001b[0m\n\u001b[0;32m     23\u001b[0m \u001b[1;33m\u001b[0m\u001b[0m\n\u001b[0;32m     24\u001b[0m \u001b[1;31m# Get the current price of the product\u001b[0m\u001b[1;33m\u001b[0m\u001b[1;33m\u001b[0m\u001b[1;33m\u001b[0m\u001b[0m\n\u001b[1;32m---> 25\u001b[1;33m \u001b[0mprice\u001b[0m \u001b[1;33m=\u001b[0m \u001b[0mdata\u001b[0m\u001b[1;33m[\u001b[0m\u001b[1;34m\"item\"\u001b[0m\u001b[1;33m]\u001b[0m\u001b[1;33m[\u001b[0m\u001b[1;34m\"price\"\u001b[0m\u001b[1;33m]\u001b[0m\u001b[1;33m\u001b[0m\u001b[1;33m\u001b[0m\u001b[0m\n\u001b[0m\u001b[0;32m     26\u001b[0m \u001b[1;33m\u001b[0m\u001b[0m\n\u001b[0;32m     27\u001b[0m \u001b[0mprint\u001b[0m\u001b[1;33m(\u001b[0m\u001b[1;34mf\"The current price of the product is ${price}.\"\u001b[0m\u001b[1;33m)\u001b[0m\u001b[1;33m\u001b[0m\u001b[1;33m\u001b[0m\u001b[0m\n",
      "\u001b[1;31mKeyError\u001b[0m: 'item'"
     ]
    }
   ],
   "source": [
    "import requests\n",
    "import json\n",
    "\n",
    "# Set the Shopee API endpoint and your API key\n",
    "api_endpoint = \"https://shopee.com.my/api/v2/item/get\"\n",
    "api_key = \"YOUR_API_KEY\"\n",
    "\n",
    "# Set the item ID of the product you want to track\n",
    "item_id = 12345\n",
    "\n",
    "# Set the parameters for the API request\n",
    "params = {\n",
    "    \"item_id\": item_id,\n",
    "    \"partner_id\": \"YOUR_PARTNER_ID\",\n",
    "    \"shopid\": \"YOUR_SHOP_ID\",\n",
    "}\n",
    "\n",
    "# Make the API request and get the response\n",
    "response = requests.get(api_endpoint, params=params, headers={\"api-key\": api_key})\n",
    "\n",
    "# Parse the response\n",
    "data = json.loads(response.text)\n",
    "\n",
    "# Get the current price of the product\n",
    "price = data[\"item\"][\"price\"]\n",
    "\n",
    "print(f\"The current price of the product is ${price}.\")"
   ]
  },
  {
   "cell_type": "code",
   "execution_count": 2,
   "id": "e929bc4f",
   "metadata": {},
   "outputs": [
    {
     "data": {
      "text/plain": [
       "<Response [403]>"
      ]
     },
     "execution_count": 2,
     "metadata": {},
     "output_type": "execute_result"
    }
   ],
   "source": [
    "response"
   ]
  },
  {
   "cell_type": "code",
   "execution_count": null,
   "id": "c6eb6e85",
   "metadata": {},
   "outputs": [],
   "source": []
  }
 ],
 "metadata": {
  "kernelspec": {
   "display_name": "Python 3",
   "language": "python",
   "name": "python3"
  },
  "language_info": {
   "codemirror_mode": {
    "name": "ipython",
    "version": 3
   },
   "file_extension": ".py",
   "mimetype": "text/x-python",
   "name": "python",
   "nbconvert_exporter": "python",
   "pygments_lexer": "ipython3",
   "version": "3.8.8"
  }
 },
 "nbformat": 4,
 "nbformat_minor": 5
}
