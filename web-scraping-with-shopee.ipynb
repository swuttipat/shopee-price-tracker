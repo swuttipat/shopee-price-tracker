{
 "cells": [
  {
   "cell_type": "code",
   "execution_count": 1,
   "id": "7409e690",
   "metadata": {},
   "outputs": [],
   "source": [
    "def get_price_and_date(url):\n",
    "    from selenium import webdriver\n",
    "    from selenium.webdriver.common.by import By\n",
    "    from selenium.webdriver.support.ui import WebDriverWait\n",
    "    from selenium.webdriver.support import expected_conditions as EC\n",
    "    import pandas as pd\n",
    "    \n",
    "    \n",
    "    # Class name of element that contain product name \n",
    "    name_loc = 'KmiQIK'\n",
    "    # Class name of element that contain categories name \n",
    "    cat_loc = 'akCPfg'\n",
    "    # Class name of element that contain price\n",
    "    price_loc = \"div.pqTWkA\"\n",
    "\n",
    "    \n",
    "    # Create a Chrome web driver\n",
    "    driver = webdriver.Chrome()\n",
    "\n",
    "    # Navigate to the product page\n",
    "    driver.get(url)\n",
    "    \n",
    "    # Wait for the page to load\n",
    "    WebDriverWait(driver, 10).until(EC.presence_of_element_located((By.CLASS_NAME, name_loc)))\n",
    "    WebDriverWait(driver, 10).until(EC.presence_of_element_located((By.CLASS_NAME, cat_loc)))\n",
    "    WebDriverWait(driver, 10).until(EC.presence_of_element_located((By.CSS_SELECTOR, price_loc)))\n",
    "\n",
    "    \n",
    "    # Find the element contains name at specific location\n",
    "    name = driver.find_element_by_class_name(name_loc).text\n",
    "    cat = driver.find_elements_by_class_name(cat_loc)[3].text\n",
    "    price_element = driver.find_element_by_css_selector(price_loc)\n",
    "\n",
    "    # Extract the price text and remove the currency symbol\n",
    "    price_text = \"\".join([c for c in price_element.text if c.isdigit() or c in [\".\", \"-\"]])\n",
    "\n",
    "    # Convert the price text to a number\n",
    "    price = price_text\n",
    "    \n",
    "    \n",
    "    # Get the current date and time\n",
    "    date = pd.Timestamp.now()\n",
    "    # Transform to 'YYYY-MM-DD'\n",
    "    date = date.strftime('%Y-%m-%d')\n",
    "\n",
    "    # Create a DataFrame with the price and date\n",
    "    df = pd.DataFrame({\"product_name\":[name], \"category\":[cat],\"price\": [price], \"date\": [date], \"url\":[url]})\n",
    "\n",
    "    # Append the new row to the existing DataFrame\n",
    "    try:\n",
    "        # import existing CSV file\n",
    "        df_existing = pd.read_csv(\"prices.csv\")\n",
    "        # Combine new DataFrame to existed DataFrame\n",
    "        df_combined = df_existing.append(df, ignore_index=True)\n",
    "\n",
    "        # Save the combined DataFrame to the CSV file\n",
    "        df_combined.to_csv(\"prices.csv\", index=False)\n",
    "    except:\n",
    "        df.to_csv(\"prices.csv\", index=False)\n",
    "#         df_existing = pd.read_csv(\"prices.csv\")\n",
    "\n",
    "\n",
    "    # Close the web driver\n",
    "    driver.close()\n"
   ]
  },
  {
   "cell_type": "markdown",
   "id": "78eb540a",
   "metadata": {},
   "source": [
    "# One Time Run"
   ]
  },
  {
   "cell_type": "code",
   "execution_count": 2,
   "id": "58f407c0",
   "metadata": {},
   "outputs": [],
   "source": [
    "# url webpage of product\n",
    "url_dict = {\n",
    "\"home_huk_gaming_chair\":\"https://shopee.co.th/HomeHuk-%E0%B9%80%E0%B8%81%E0%B9%89%E0%B8%B2%E0%B8%AD%E0%B8%B5%E0%B9%89%E0%B9%80%E0%B8%81%E0%B8%A1%E0%B8%A1%E0%B8%B4%E0%B9%88%E0%B8%87-%E0%B8%A3%E0%B8%B8%E0%B9%88%E0%B8%99-Arashi-%E0%B9%80%E0%B8%9A%E0%B8%B2%E0%B8%B0%E0%B8%9C%E0%B9%89%E0%B8%B2-%E0%B8%82%E0%B8%AD%E0%B8%9A%E0%B8%AB%E0%B8%99%E0%B8%B1%E0%B8%87-%E0%B8%AB%E0%B8%99%E0%B8%B2%E0%B8%9E%E0%B8%B4%E0%B9%80%E0%B8%A8%E0%B8%A9-%E0%B8%97%E0%B8%B5%E0%B9%88%E0%B8%9E%E0%B8%B1%E0%B8%81%E0%B9%81%E0%B8%82%E0%B8%99-%E0%B8%9B%E0%B8%A3%E0%B8%B1%E0%B8%9A-2-%E0%B8%97%E0%B8%B4%E0%B8%A8%E0%B8%97%E0%B8%B2%E0%B8%87-%E0%B8%9E%E0%B8%99%E0%B8%B1%E0%B8%81%E0%B8%9E%E0%B8%B4%E0%B8%87%E0%B8%AA%E0%B8%B9%E0%B8%87-%E0%B9%80%E0%B8%AD%E0%B8%99-90-135%C2%B0-%E0%B8%A5%E0%B9%87%E0%B8%AD%E0%B8%84%E0%B9%84%E0%B8%94%E0%B9%89-%E0%B9%80%E0%B8%81%E0%B9%89%E0%B8%B2%E0%B8%AD%E0%B8%B5%E0%B9%89%E0%B8%84%E0%B8%AD%E0%B8%A1-%E0%B9%80%E0%B8%81%E0%B9%89%E0%B8%B2%E0%B8%AD%E0%B8%B5%E0%B9%89%E0%B8%84%E0%B8%AD%E0%B8%A1%E0%B8%9E%E0%B8%B4%E0%B8%A7%E0%B9%80%E0%B8%95%E0%B8%AD%E0%B8%A3%E0%B9%8C-Fabric-Gaming-Chair-2D-Armrest-with-Double-Tilt-i.8716640.836140800?sp_atk=cac78744-047a-4f6c-b186-21bac677b668&xptdk=cac78744-047a-4f6c-b186-21bac677b668\",\n",
    "\"east_seat_gaming_chair\":\"https://shopee.co.th/%F0%9D%99%80%F0%9D%98%BC%F0%9D%99%8E%F0%9D%99%8F-%F0%9D%99%8E%F0%9D%99%80%F0%9D%98%BC%F0%9D%99%8F-%E0%B8%A3%E0%B8%B8%E0%B9%88%E0%B8%99-%F0%9D%97%A3%F0%9D%97%A5%F0%9D%97%A2-%F0%9D%97%A6%F0%9D%97%B2%F0%9D%97%BF%F0%9D%97%B6%F0%9D%97%B2%F0%9D%98%80-%E0%B9%80%E0%B8%81%E0%B9%89%E0%B8%B2%E0%B8%AD%E0%B8%B5%E0%B9%89%E0%B9%80%E0%B8%81%E0%B8%A1%E0%B8%A1%E0%B8%B4%E0%B9%88%E0%B8%87-%E0%B9%80%E0%B8%AD%E0%B8%99%E0%B9%84%E0%B8%94%E0%B9%89-150-%E0%B8%AD%E0%B8%87%E0%B8%A8%E0%B8%B2-%E0%B8%9B%E0%B8%A3%E0%B8%B1%E0%B8%9A%E0%B8%97%E0%B8%B5%E0%B9%88%E0%B8%9E%E0%B8%B1%E0%B8%81%E0%B9%81%E0%B8%82%E0%B8%99-%E0%B8%A1%E0%B8%B5%E0%B8%97%E0%B8%B5%E0%B9%88%E0%B8%A3%E0%B8%AD%E0%B8%87%E0%B8%82%E0%B8%B2-%E0%B9%80%E0%B8%81%E0%B9%89%E0%B8%B2%E0%B8%AD%E0%B8%B5%E0%B9%89%E0%B9%80%E0%B8%81%E0%B8%A1%E0%B9%80%E0%B8%A1%E0%B8%AD-i.46571268.3693123020?sp_atk=088539cd-6829-49d8-a1cb-4f0c477bff84&xptdk=088539cd-6829-49d8-a1cb-4f0c477bff84\" ,\n",
    "'home_huk_office_chair':'https://shopee.co.th/HomeHuk-%E0%B9%80%E0%B8%81%E0%B9%89%E0%B8%B2%E0%B8%AD%E0%B8%B5%E0%B9%89%E0%B8%97%E0%B8%B3%E0%B8%87%E0%B8%B2%E0%B8%99-%E0%B8%A3%E0%B8%B8%E0%B9%88%E0%B8%99-Chicago-%E0%B8%97%E0%B8%B5%E0%B9%88%E0%B8%A3%E0%B8%AD%E0%B8%87%E0%B8%A8%E0%B8%B5%E0%B8%A3%E0%B8%A9%E0%B8%B0%E0%B8%9B%E0%B8%A3%E0%B8%B1%E0%B8%9A%E0%B9%84%E0%B8%94%E0%B9%89-3-%E0%B8%A3%E0%B8%B0%E0%B8%94%E0%B8%B1%E0%B8%9A-%E0%B8%9E%E0%B8%99%E0%B8%B1%E0%B8%81%E0%B8%9E%E0%B8%B4%E0%B8%87%E0%B8%9C%E0%B9%89%E0%B8%B2%E0%B8%95%E0%B8%B2%E0%B8%82%E0%B9%88%E0%B8%B2%E0%B8%A2-%E0%B8%A3%E0%B8%B9%E0%B8%9B%E0%B8%95%E0%B8%B1%E0%B8%A7-S-%E0%B8%A3%E0%B8%B1%E0%B8%9A%E0%B8%AA%E0%B8%A3%E0%B8%B5%E0%B8%A3%E0%B8%B0-%E0%B9%80%E0%B8%81%E0%B9%89%E0%B8%B2%E0%B8%AD%E0%B8%B5%E0%B9%89%E0%B8%AA%E0%B8%B3%E0%B8%99%E0%B8%B1%E0%B8%81%E0%B8%87%E0%B8%B2%E0%B8%99-%E0%B9%80%E0%B8%81%E0%B9%89%E0%B8%B2%E0%B8%AD%E0%B8%B5%E0%B9%89%E0%B8%AD%E0%B8%AD%E0%B8%9F%E0%B8%9F%E0%B8%B4%E0%B8%A8-Mesh-Back-Office-Chair-with-Head-Support-i.8716640.787482553?xptdk=fda3b329-6ff3-4500-9350-8cce9137f777'\n",
    ",'acer_desktop_monitor_23.8_inch_EK240YCbi':'https://shopee.co.th/ACER-Monitor-%E0%B8%88%E0%B8%AD%E0%B8%84%E0%B8%AD%E0%B8%A1%E0%B8%9E%E0%B8%B4%E0%B8%A7%E0%B9%80%E0%B8%95%E0%B8%AD%E0%B8%A3%E0%B9%8C-23.8''-EK240YCbi-(VA-VGA-HDMI)-75Hz-i.62824618.12531693615?sp_atk=42f58d91-cbf8-47e7-ae38-33dcd238ddfa&xptdk=42f58d91-cbf8-47e7-ae38-33dcd238ddfa'\n",
    ",'acer_desktop_monitor_23.8_inch_SA241YAbi':'https://shopee.co.th/ACER-Monitor-%E0%B8%88%E0%B8%AD%E0%B8%84%E0%B8%AD%E0%B8%A1%E0%B8%9E%E0%B8%B4%E0%B8%A7%E0%B9%80%E0%B8%95%E0%B8%AD%E0%B8%A3%E0%B9%8C-23.8''-SA241YAbi-(VA-VGA-HDMI)-75Hz-i.62824618.15662924343?xptdk=54a41381-2533-4abb-8b52-cfc23a12a8c8'\n",
    ",'ipason_desktop_monitor_27_inch':'https://shopee.co.th/IPASON-Monitor-%E0%B8%A3%E0%B8%B8%E0%B9%88%E0%B8%99-E272-27-FHD-75-Hz-%E0%B8%A3%E0%B8%B1%E0%B8%9A%E0%B8%9B%E0%B8%A3%E0%B8%B0%E0%B8%81%E0%B8%B1%E0%B8%99-3-%E0%B8%9B%E0%B8%B5-%E0%B9%82%E0%B8%94%E0%B8%A2-Devas-IPASON-i.20947841.20664135980?sp_atk=25611988-5b12-4634-937b-4761bc1ff7a5&utm_campaign=-&utm_content=----&utm_medium=affiliates&utm_source=an_15162270000&utm_term=8kawnngrnzdd&xptdk=25611988-5b12-4634-937b-4761bc1ff7a5'\n",
    ",'homehero_office_chair':'https://shopee.co.th/HomeHero-%E0%B9%80%E0%B8%81%E0%B9%89%E0%B8%B2%E0%B8%AD%E0%B8%B5%E0%B9%89%E0%B8%AA%E0%B8%B3%E0%B8%99%E0%B8%B1%E0%B8%81%E0%B8%87%E0%B8%B2%E0%B8%99-%E0%B8%97%E0%B8%B5%E0%B9%88%E0%B8%A3%E0%B8%AD%E0%B8%87%E0%B8%A8%E0%B8%B5%E0%B8%A3%E0%B8%A9%E0%B8%B0-3-%E0%B8%A3%E0%B8%B0%E0%B8%94%E0%B8%B1%E0%B8%9A-%E0%B8%9B%E0%B8%A3%E0%B8%B1%E0%B8%9A%E0%B8%84%E0%B8%A7%E0%B8%B2%E0%B8%A1%E0%B8%AA%E0%B8%B9%E0%B8%87-113-121-cm-%E0%B8%A3%E0%B8%B1%E0%B8%9A%E0%B8%AA%E0%B8%A3%E0%B8%B5%E0%B8%A3%E0%B8%B0-%E0%B8%A3%E0%B8%B1%E0%B8%9A%E0%B8%99%E0%B9%89%E0%B8%B3%E0%B8%AB%E0%B8%99%E0%B8%B1%E0%B8%81-150kg-i.163081637.2522291497'\n",
    "}"
   ]
  },
  {
   "cell_type": "code",
   "execution_count": 3,
   "id": "78ed7484",
   "metadata": {},
   "outputs": [
    {
     "name": "stdout",
     "output_type": "stream",
     "text": [
      "home_huk_gaming_chair : DONE\n",
      "east_seat_gaming_chair : DONE\n",
      "home_huk_office_chair : DONE\n",
      "acer_desktop_monitor_23.8_inch_EK240YCbi : DONE\n",
      "acer_desktop_monitor_23.8_inch_SA241YAbi : DONE\n",
      "ipason_desktop_monitor_27_inch : DONE\n",
      "homehero_office_chair : DONE\n"
     ]
    }
   ],
   "source": [
    "for name, url in url_dict.items():\n",
    "    get_price_and_date(url)\n",
    "    print(name + \" : DONE\")"
   ]
  },
  {
   "cell_type": "code",
   "execution_count": 4,
   "id": "0c9f2de6",
   "metadata": {},
   "outputs": [
    {
     "data": {
      "text/html": [
       "<div>\n",
       "<style scoped>\n",
       "    .dataframe tbody tr th:only-of-type {\n",
       "        vertical-align: middle;\n",
       "    }\n",
       "\n",
       "    .dataframe tbody tr th {\n",
       "        vertical-align: top;\n",
       "    }\n",
       "\n",
       "    .dataframe thead th {\n",
       "        text-align: right;\n",
       "    }\n",
       "</style>\n",
       "<table border=\"1\" class=\"dataframe\">\n",
       "  <thead>\n",
       "    <tr style=\"text-align: right;\">\n",
       "      <th></th>\n",
       "      <th>product_name</th>\n",
       "      <th>category</th>\n",
       "      <th>price</th>\n",
       "      <th>date</th>\n",
       "      <th>url</th>\n",
       "    </tr>\n",
       "  </thead>\n",
       "  <tbody>\n",
       "    <tr>\n",
       "      <th>151</th>\n",
       "      <td>acer_desktop_monitor_23.8_inch_SA241YAbi</td>\n",
       "      <td>จอมอนิเตอร์</td>\n",
       "      <td>3542</td>\n",
       "      <td>2023-01-28</td>\n",
       "      <td>https://shopee.co.th/ACER-Monitor-%E0%B8%88%E0...</td>\n",
       "    </tr>\n",
       "    <tr>\n",
       "      <th>152</th>\n",
       "      <td>ipason_desktop_monitor_27_inch</td>\n",
       "      <td>จอมอนิเตอร์</td>\n",
       "      <td>3580</td>\n",
       "      <td>2023-01-28</td>\n",
       "      <td>https://shopee.co.th/IPASON-Monitor-%E0%B8%A3%...</td>\n",
       "    </tr>\n",
       "    <tr>\n",
       "      <th>153</th>\n",
       "      <td>homehero_office_chair</td>\n",
       "      <td>เก้าอี้ทำงาน</td>\n",
       "      <td>1399</td>\n",
       "      <td>2023-01-28</td>\n",
       "      <td>https://shopee.co.th/HomeHero-%E0%B9%80%E0%B8%...</td>\n",
       "    </tr>\n",
       "    <tr>\n",
       "      <th>154</th>\n",
       "      <td>home_huk_gaming_chair</td>\n",
       "      <td>Gaming Chair</td>\n",
       "      <td>5590-6990</td>\n",
       "      <td>2023-01-29</td>\n",
       "      <td>https://shopee.co.th/HomeHuk-%E0%B9%80%E0%B8%8...</td>\n",
       "    </tr>\n",
       "    <tr>\n",
       "      <th>155</th>\n",
       "      <td>east_seat_gaming_chair</td>\n",
       "      <td>Gaming Chair</td>\n",
       "      <td>3490</td>\n",
       "      <td>2023-01-29</td>\n",
       "      <td>https://shopee.co.th/%F0%9D%99%80%F0%9D%98%BC%...</td>\n",
       "    </tr>\n",
       "    <tr>\n",
       "      <th>156</th>\n",
       "      <td>home_huk_office_chair</td>\n",
       "      <td>เก้าอี้ทำงาน</td>\n",
       "      <td>2049</td>\n",
       "      <td>2023-01-29</td>\n",
       "      <td>https://shopee.co.th/HomeHuk-%E0%B9%80%E0%B8%8...</td>\n",
       "    </tr>\n",
       "    <tr>\n",
       "      <th>157</th>\n",
       "      <td>acer_desktop_monitor_23.8_inch_EK240YCbi</td>\n",
       "      <td>จอมอนิเตอร์</td>\n",
       "      <td>3790</td>\n",
       "      <td>2023-01-29</td>\n",
       "      <td>https://shopee.co.th/ACER-Monitor-%E0%B8%88%E0...</td>\n",
       "    </tr>\n",
       "    <tr>\n",
       "      <th>158</th>\n",
       "      <td>acer_desktop_monitor_23.8_inch_SA241YAbi</td>\n",
       "      <td>จอมอนิเตอร์</td>\n",
       "      <td>3542</td>\n",
       "      <td>2023-01-29</td>\n",
       "      <td>https://shopee.co.th/ACER-Monitor-%E0%B8%88%E0...</td>\n",
       "    </tr>\n",
       "    <tr>\n",
       "      <th>159</th>\n",
       "      <td>ipason_desktop_monitor_27_inch</td>\n",
       "      <td>จอมอนิเตอร์</td>\n",
       "      <td>3580</td>\n",
       "      <td>2023-01-29</td>\n",
       "      <td>https://shopee.co.th/IPASON-Monitor-%E0%B8%A3%...</td>\n",
       "    </tr>\n",
       "    <tr>\n",
       "      <th>160</th>\n",
       "      <td>homehero_office_chair</td>\n",
       "      <td>เก้าอี้ทำงาน</td>\n",
       "      <td>1399</td>\n",
       "      <td>2023-01-29</td>\n",
       "      <td>https://shopee.co.th/HomeHero-%E0%B9%80%E0%B8%...</td>\n",
       "    </tr>\n",
       "  </tbody>\n",
       "</table>\n",
       "</div>"
      ],
      "text/plain": [
       "                                 product_name      category      price  \\\n",
       "151  acer_desktop_monitor_23.8_inch_SA241YAbi   จอมอนิเตอร์       3542   \n",
       "152            ipason_desktop_monitor_27_inch   จอมอนิเตอร์       3580   \n",
       "153                     homehero_office_chair  เก้าอี้ทำงาน       1399   \n",
       "154                     home_huk_gaming_chair  Gaming Chair  5590-6990   \n",
       "155                    east_seat_gaming_chair  Gaming Chair       3490   \n",
       "156                     home_huk_office_chair  เก้าอี้ทำงาน       2049   \n",
       "157  acer_desktop_monitor_23.8_inch_EK240YCbi   จอมอนิเตอร์       3790   \n",
       "158  acer_desktop_monitor_23.8_inch_SA241YAbi   จอมอนิเตอร์       3542   \n",
       "159            ipason_desktop_monitor_27_inch   จอมอนิเตอร์       3580   \n",
       "160                     homehero_office_chair  เก้าอี้ทำงาน       1399   \n",
       "\n",
       "           date                                                url  \n",
       "151  2023-01-28  https://shopee.co.th/ACER-Monitor-%E0%B8%88%E0...  \n",
       "152  2023-01-28  https://shopee.co.th/IPASON-Monitor-%E0%B8%A3%...  \n",
       "153  2023-01-28  https://shopee.co.th/HomeHero-%E0%B9%80%E0%B8%...  \n",
       "154  2023-01-29  https://shopee.co.th/HomeHuk-%E0%B9%80%E0%B8%8...  \n",
       "155  2023-01-29  https://shopee.co.th/%F0%9D%99%80%F0%9D%98%BC%...  \n",
       "156  2023-01-29  https://shopee.co.th/HomeHuk-%E0%B9%80%E0%B8%8...  \n",
       "157  2023-01-29  https://shopee.co.th/ACER-Monitor-%E0%B8%88%E0...  \n",
       "158  2023-01-29  https://shopee.co.th/ACER-Monitor-%E0%B8%88%E0...  \n",
       "159  2023-01-29  https://shopee.co.th/IPASON-Monitor-%E0%B8%A3%...  \n",
       "160  2023-01-29  https://shopee.co.th/HomeHero-%E0%B9%80%E0%B8%...  "
      ]
     },
     "execution_count": 4,
     "metadata": {},
     "output_type": "execute_result"
    }
   ],
   "source": [
    "import pandas as pd\n",
    "# pd.set_option('display.max_colwidth', None) \n",
    "df = pd.read_csv('prices.csv')\n",
    "\n",
    "# Swap keys and values in dict\n",
    "swop_dict = dict((v,k) for k,v in url_dict.items())\n",
    "\n",
    "# Replace values in columns with dictionary\n",
    "df.product_name = df.url.replace(swop_dict)\n",
    "df.tail(10)"
   ]
  },
  {
   "cell_type": "code",
   "execution_count": 5,
   "id": "9ac40b69",
   "metadata": {},
   "outputs": [],
   "source": [
    "# Make a copy of .CSV file outside project directory for protecting data in .CSV file\n",
    "# unintentionally change by Git.\n",
    "import pandas as pd\n",
    "prices_df = pd.read_csv('prices.csv')\n",
    "prices_df.to_csv(r'C:\\Users\\acer\\OneDrive\\Desktop\\github\\shopee\\copy_of_prices.csv')"
   ]
  },
  {
   "cell_type": "code",
   "execution_count": 6,
   "id": "99253faa",
   "metadata": {},
   "outputs": [],
   "source": [
    "#Manual Run\n",
    "# get_price_and_date(url_dict['homehero_office_chair'])"
   ]
  },
  {
   "cell_type": "markdown",
   "id": "04c49296",
   "metadata": {},
   "source": [
    "# Run Everyday"
   ]
  },
  {
   "cell_type": "markdown",
   "id": "4781fcba",
   "metadata": {},
   "source": [
    "```\n",
    "import time\n",
    "\n",
    "while True:\n",
    "    get_price_and_date(url, price_loc)\n",
    "    \n",
    "    # Wait for one day\n",
    "    time.sleep(86400)\n",
    "```"
   ]
  },
  {
   "cell_type": "markdown",
   "id": "e4054428",
   "metadata": {},
   "source": [
    "# Cleaning data"
   ]
  },
  {
   "cell_type": "code",
   "execution_count": 7,
   "id": "4a79b57c",
   "metadata": {},
   "outputs": [],
   "source": [
    "# remove dupllicate rows with same 'product_name' and 'date'\n",
    "df.drop_duplicates(subset=['product_name', 'date'], keep='last')\n",
    "\n",
    "# repalce '3000-4000' with '3000' \n",
    "df.price = df.price.replace(to_replace='-\\d+', value='',regex=True)\n",
    "\n",
    "# tranform 'price' column into numeric\n",
    "df.price = df.price.astype('int64')"
   ]
  },
  {
   "cell_type": "code",
   "execution_count": 8,
   "id": "1ff5ed5e",
   "metadata": {},
   "outputs": [
    {
     "data": {
      "image/png": "[encoded data removed]",
      "text/plain": [
       "<Figure size 432x288 with 1 Axes>"
      ]
     },
     "metadata": {
      "needs_background": "light"
     },
     "output_type": "display_data"
    }
   ],
   "source": [
    "import seaborn as sns\n",
    "import matplotlib.pyplot as plt\n",
    "# Plot line show timeline of price of each products\n",
    "plot_ = sns.lineplot(data=df, x='date', y='price', hue='product_name', alpha=0.8)\n",
    "\n",
    "# Reduce the dendity of x-ticks\n",
    "for ind, label in enumerate(plot_.get_xticklabels()):\n",
    "    if ind % 5 == 0:  # every 10th label is kept\n",
    "        label.set_visible(True)\n",
    "    else:\n",
    "        label.set_visible(False)\n",
    "        \n",
    "# Rotation X tick\n",
    "plt.xticks(rotation=45)\n",
    "\n",
    "\n",
    "# Specify legend position\n",
    "plt.legend(bbox_to_anchor=(1.7, 0.7))\n",
    "plt.show()"
   ]
  },
  {
   "cell_type": "markdown",
   "id": "04de7132",
   "metadata": {},
   "source": [
    "```\n",
    "# Edit prodcut name due to add same product which different model code\n",
    "target = df.product_name=='acer_desktop_monitor_23.8_inch'\n",
    "\n",
    "df.loc[target, 'product_name'] = 'acer_desktop_monitor_23.8_inch_EK240YCbi'\n",
    "\n",
    "```"
   ]
  }
 ],
 "metadata": {
  "kernelspec": {
   "display_name": "Python 3",
   "language": "python",
   "name": "python3"
  },
  "language_info": {
   "codemirror_mode": {
    "name": "ipython",
    "version": 3
   },
   "file_extension": ".py",
   "mimetype": "text/x-python",
   "name": "python",
   "nbconvert_exporter": "python",
   "pygments_lexer": "ipython3",
   "version": "3.8.8"
  }
 },
 "nbformat": 4,
 "nbformat_minor": 5
}
